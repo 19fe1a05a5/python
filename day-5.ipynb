{
 "cells": [
  {
   "cell_type": "markdown",
   "metadata": {},
   "source": [
    "# regular expressions\n",
    "- we  have inbuilt regular expression package\n",
    "- import re\n",
    "- methods in regular expression\n",
    "- search\n",
    "- match\n",
    "- find tail\n",
    "- re.method name(pattern,str/var name)\n",
    "- symbols used in re\n",
    "<img src =\n",
    "\"https://miro.medium.com/max/1838/1*hjsbL45MhT2Tw5DGAYoAUg.png\">\n",
    "     \n",
    "## program-1\n"
   ]
  },
  {
   "cell_type": "code",
   "execution_count": 22,
   "metadata": {},
   "outputs": [
    {
     "name": "stdout",
     "output_type": "stream",
     "text": [
      "<re.Match object; span=(3, 4), match='n'>\n",
      "None\n",
      "None\n",
      "<re.Match object; span=(0, 2), match='la'>\n",
      "['n', 'n', 'n', 'n', 'n']\n",
      "<re.Match object; span=(0, 3), match='vig'>\n",
      "None\n"
     ]
    }
   ],
   "source": [
    "import  re\n",
    "print(re.search(\"n\",\"vignan\"))\n",
    "print(re.search(\"na\",\"lara\"))\n",
    "print(re.match(\"na\",\"vignan\"))\n",
    "print(re.match(\"la\",\"lara\"))\n",
    "print(re.findall(\"n\",\"vignannnn\"))\n",
    "\n"
   ]
  },
  {
   "cell_type": "markdown",
   "metadata": {},
   "source": [
    "## program-2"
   ]
  },
  {
   "cell_type": "code",
   "execution_count": 43,
   "metadata": {},
   "outputs": [
    {
     "name": "stdout",
     "output_type": "stream",
     "text": [
      "<re.Match object; span=(0, 2), match='vi'>\n",
      "None\n",
      "<re.Match object; span=(0, 6), match='vignan'>\n",
      "<re.Match object; span=(0, 2), match='vi'>\n",
      "<re.Match object; span=(0, 3), match='vig'>\n",
      "None\n",
      "<re.Match object; span=(8, 11), match='ara'>\n",
      "None\n",
      "<re.Match object; span=(0, 0), match=''>\n",
      "<re.Match object; span=(0, 0), match=''>\n",
      "<re.Match object; span=(6, 7), match=' '>\n",
      "None\n",
      "<re.Match object; span=(4, 5), match='a'>\n",
      "<re.Match object; span=(0, 1), match='n'>\n",
      "<re.Match object; span=(0, 1), match='v'>\n",
      "None\n",
      "<re.Match object; span=(7, 8), match='1'>\n",
      "<re.Match object; span=(0, 1), match='v'>\n",
      "<re.Match object; span=(6, 7), match=' '>\n",
      "<re.Match object; span=(3, 4), match='v'>\n"
     ]
    }
   ],
   "source": [
    "print(re.search(\"..\",\"vignan\"))\n",
    "print(re.search(\"..\",\"v\"))\n",
    "print(re.search(\".{3,10}\",\"vignan\"))\n",
    "print(re.search(\".{1,10}\",\"vi\"))\n",
    "print(re.search(\"^vig\",\"vignan lara\"))\n",
    "print(re.search(\"^vig\",\"nan lara\"))\n",
    "print(re.search(\"ara$\",\"vignan lara\"))\n",
    "print(re.search(\"nan$\",\"nan lara\"))\n",
    "print(re.search(\" *\",\"vignan lara\"))\n",
    "print(re.search(\" *\",\"nanlara\"))\n",
    "print(re.search(\" +\",\"vignan lara\"))\n",
    "print(re.search(\" +\",\"nanlara\"))\n",
    "print(re.search(\"[la]\",\"vignan lara\"))\n",
    "print(re.search(\"[an]\",\"nanlara\"))\n",
    "print(re.match(\"[uv]\",\"vignan lara\"))\n",
    "print(re.match(\"[^i]\",\"ignan lara\"))\n",
    "print(re.search(\"\\d\",\"vignan 123\"))\n",
    "print(re.search(\"\\D\",\"vignan 123\"))\n",
    "\n",
    "print(re.search(\"\\s\",\"vignan 123\"))\n",
    "print(re.search(\"\\S\",\"   vignan 123\"))"
   ]
  },
  {
   "cell_type": "markdown",
   "metadata": {},
   "source": [
    "## program-3"
   ]
  },
  {
   "cell_type": "code",
   "execution_count": 47,
   "metadata": {},
   "outputs": [
    {
     "name": "stdout",
     "output_type": "stream",
     "text": [
      "6301785784\n",
      "accepted\n"
     ]
    }
   ],
   "source": [
    "pa=\"[+]{0,1}[9][1][6-9][0-9]{9}|[0]{0,1}[6-9][0-9]{9}\"\n",
    "n=input()\n",
    "if re.match(pa,n):\n",
    "    print(\"accepted\")\n",
    "else:\n",
    "    print(\"not accepted\")"
   ]
  },
  {
   "cell_type": "markdown",
   "metadata": {},
   "source": [
    "## program-4"
   ]
  },
  {
   "cell_type": "code",
   "execution_count": 58,
   "metadata": {},
   "outputs": [
    {
     "name": "stdout",
     "output_type": "stream",
     "text": [
      "USHA\n",
      "ACCEPTED\n"
     ]
    }
   ],
   "source": [
    "na=\"[A-Z]{0,1}[.]|[A-Z]{0,1}[a-z][ ]{0,1}|[A-Z]\"\n",
    "n=input()\n",
    "if re.match(na,n):\n",
    "    print(\"ACCEPTED\")\n",
    "else:\n",
    "    print(\"NOT ACCEPTED\")"
   ]
  },
  {
   "cell_type": "markdown",
   "metadata": {},
   "source": [
    "## program-5"
   ]
  },
  {
   "cell_type": "code",
   "execution_count": 64,
   "metadata": {},
   "outputs": [
    {
     "name": "stdout",
     "output_type": "stream",
     "text": [
      "[2, 4, 6]\n"
     ]
    }
   ],
   "source": [
    "l=[1,2,3,4,5,6]\n",
    "l1=[i for i in l if i%2==0]\n",
    "print(l1)"
   ]
  },
  {
   "cell_type": "markdown",
   "metadata": {},
   "source": [
    "## program-6"
   ]
  },
  {
   "cell_type": "code",
   "execution_count": 63,
   "metadata": {},
   "outputs": [
    {
     "name": "stdout",
     "output_type": "stream",
     "text": [
      "[4, 16, 36]\n"
     ]
    }
   ],
   "source": [
    "l=[1,2,3,4,5,6]\n",
    "l2=[i*i for i in l if i%2==0]\n",
    "print(l2)"
   ]
  },
  {
   "cell_type": "markdown",
   "metadata": {},
   "source": [
    "## program-7"
   ]
  },
  {
   "cell_type": "code",
   "execution_count": 67,
   "metadata": {},
   "outputs": [
    {
     "name": "stdout",
     "output_type": "stream",
     "text": [
      "{1: 2, 2: 1, 3: 3, 4: 4}\n",
      "{1: 2, 2: 1, 3: 3, 4: 4}\n"
     ]
    }
   ],
   "source": [
    "l=[1,1,2,3,3,3,4,4,4,4]\n",
    "d={}\n",
    "for i in l:\n",
    "    d[i]=l.count(i)\n",
    "print(d)\n",
    "print({i:l.count(i) for i in l})"
   ]
  },
  {
   "cell_type": "markdown",
   "metadata": {},
   "source": [
    "## program-8"
   ]
  },
  {
   "cell_type": "code",
   "execution_count": 70,
   "metadata": {},
   "outputs": [
    {
     "name": "stdout",
     "output_type": "stream",
     "text": [
      "{256, 1, 27, 4}\n"
     ]
    }
   ],
   "source": [
    "print({i**i for i in l})"
   ]
  },
  {
   "cell_type": "markdown",
   "metadata": {},
   "source": [
    "## program-9"
   ]
  },
  {
   "cell_type": "code",
   "execution_count": 80,
   "metadata": {},
   "outputs": [
    {
     "name": "stdout",
     "output_type": "stream",
     "text": [
      "this is python workshop\n",
      "this is python workshop\n",
      "this is python workshop\n",
      "\n"
     ]
    }
   ],
   "source": [
    "f=open(\"data.txt\",\"r\")\n",
    "print(f.read())\n",
    "f.close()"
   ]
  },
  {
   "cell_type": "markdown",
   "metadata": {},
   "source": [
    "## program-10"
   ]
  },
  {
   "cell_type": "code",
   "execution_count": 78,
   "metadata": {},
   "outputs": [
    {
     "name": "stdout",
     "output_type": "stream",
     "text": [
      "24\n"
     ]
    }
   ],
   "source": [
    "f=open(\"data.txt\",\"a\")\n",
    "print(f.write(\"this is python workshop\"+\"\\n\"))\n",
    "f.close()"
   ]
  },
  {
   "cell_type": "markdown",
   "metadata": {},
   "source": [
    "## program-11"
   ]
  },
  {
   "cell_type": "code",
   "execution_count": 81,
   "metadata": {},
   "outputs": [
    {
     "name": "stdout",
     "output_type": "stream",
     "text": [
      "60\n"
     ]
    }
   ],
   "source": [
    "f=open(\"data.txt\",\"r\")\n",
    "fh=f.read()\n",
    "letters=0\n",
    "for i in fh:\n",
    "    if i.isalpha():\n",
    "        letters+=1\n",
    "print(letters)\n",
    "f.close()"
   ]
  },
  {
   "cell_type": "markdown",
   "metadata": {},
   "source": [
    "## program 12"
   ]
  },
  {
   "cell_type": "code",
   "execution_count": 84,
   "metadata": {},
   "outputs": [
    {
     "name": "stdout",
     "output_type": "stream",
     "text": [
      "4\n"
     ]
    }
   ],
   "source": [
    "f=open(\"data.txt\",\"r\")\n",
    "fh=f.read()\n",
    "s=fh.split()\n",
    "c=0\n",
    "l=set(s)\n",
    "for i in l:\n",
    "    c+=1\n",
    "print(c)\n",
    "f.close()"
   ]
  },
  {
   "cell_type": "markdown",
   "metadata": {},
   "source": [
    "## program-13"
   ]
  },
  {
   "cell_type": "code",
   "execution_count": 97,
   "metadata": {},
   "outputs": [
    {
     "name": "stdout",
     "output_type": "stream",
     "text": [
      "the bmw gives the max mileage of 150km/hr\n"
     ]
    }
   ],
   "source": [
    "class car:\n",
    "    def __init__(c,name,mileage):\n",
    "        c.name=name\n",
    "        c.mileage=mileage\n",
    "    def max_speed(c,speed):\n",
    "        c.speed=speed\n",
    "        return f\"the {c.name} runs at the maximum speed of {speed}km/hr\"\n",
    "    def descripton(self):\n",
    "        return f\"the {self.name} gives the max mileage of {self.mileage}km/hr\"\n",
    "\n",
    "    \n",
    "class bmw(car):\n",
    "    pass\n",
    "\n",
    "b=bmw(\"bmw\",150)\n",
    "print(b.descripton())"
   ]
  },
  {
   "cell_type": "code",
   "execution_count": null,
   "metadata": {},
   "outputs": [],
   "source": []
  }
 ],
 "metadata": {
  "kernelspec": {
   "display_name": "Python 3",
   "language": "python",
   "name": "python3"
  },
  "language_info": {
   "codemirror_mode": {
    "name": "ipython",
    "version": 3
   },
   "file_extension": ".py",
   "mimetype": "text/x-python",
   "name": "python",
   "nbconvert_exporter": "python",
   "pygments_lexer": "ipython3",
   "version": "3.8.5"
  }
 },
 "nbformat": 4,
 "nbformat_minor": 4
}
