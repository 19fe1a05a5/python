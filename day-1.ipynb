{
 "cells": [
  {
   "cell_type": "code",
   "execution_count": 1,
   "metadata": {},
   "outputs": [
    {
     "name": "stdout",
     "output_type": "stream",
     "text": [
      "welcome\n"
     ]
    }
   ],
   "source": [
    "print(\"welcome\")"
   ]
  },
  {
   "cell_type": "markdown",
   "metadata": {},
   "source": [
    "## program\n"
   ]
  },
  {
   "cell_type": "markdown",
   "metadata": {},
   "source": [
    "## python\n",
    "- it is a general purpose high level and interpreted programming language\n",
    "       - generalpurouse\n",
    "   \n",
    "  *high level*\n",
    "  \n",
    "  **understandable language**\n",
    "      - ***interpreted***\n",
    "        -gives us line by line execution"
   ]
  },
  {
   "cell_type": "code",
   "execution_count": 2,
   "metadata": {},
   "outputs": [
    {
     "name": "stdout",
     "output_type": "stream",
     "text": [
      "1988\n",
      "leap year\n"
     ]
    }
   ],
   "source": [
    "# leap year definition\n",
    "year=int(input())\n",
    "if(year%400==0)or(year%100!=0 and year%4==0):\n",
    "    print(\"leap year\")\n",
    "else:\n",
    "    print(\"not a leap year\")"
   ]
  },
  {
   "cell_type": "markdown",
   "metadata": {},
   "source": [
    "# strings\n"
   ]
  },
  {
   "cell_type": "code",
   "execution_count": 5,
   "metadata": {},
   "outputs": [
    {
     "name": "stdout",
     "output_type": "stream",
     "text": [
      "4\n",
      "5\n",
      "3\n",
      "b is bigger 5\n"
     ]
    }
   ],
   "source": [
    "# program to print numbers\n",
    "a,b,c=int(input()),int(input()),int(input())\n",
    "if (a>b)and(a>c):\n",
    "    print(\"a is bigger\",a)\n",
    "elif (b>a)and(b>c):\n",
    "    print(\"b is bigger\",b)\n",
    "else:\n",
    "    print(\"c is bigger\",c)"
   ]
  },
  {
   "cell_type": "markdown",
   "metadata": {},
   "source": [
    "## program 1\n"
   ]
  },
  {
   "cell_type": "code",
   "execution_count": 2,
   "metadata": {},
   "outputs": [
    {
     "name": "stdout",
     "output_type": "stream",
     "text": [
      "43\n",
      "perfect\n",
      "perfect\n",
      "perfect\n",
      "perfect\n",
      "perfect\n"
     ]
    }
   ],
   "source": [
    "n=int(input())\n",
    "s=0\n",
    "while(n>0):\n",
    "    p=n%10\n",
    "    s+=p\n",
    "    n=n//10\n",
    "for i in range(2,s):\n",
    "    if s%i==0:\n",
    "        print(\"not perfect\")\n",
    "        break\n",
    "    else:\n",
    "        print(\"perfect\")"
   ]
  },
  {
   "cell_type": "code",
   "execution_count": null,
   "metadata": {},
   "outputs": [],
   "source": []
  }
 ],
 "metadata": {
  "kernelspec": {
   "display_name": "Python 3",
   "language": "python",
   "name": "python3"
  },
  "language_info": {
   "codemirror_mode": {
    "name": "ipython",
    "version": 3
   },
   "file_extension": ".py",
   "mimetype": "text/x-python",
   "name": "python",
   "nbconvert_exporter": "python",
   "pygments_lexer": "ipython3",
   "version": "3.8.5"
  }
 },
 "nbformat": 4,
 "nbformat_minor": 4
}
