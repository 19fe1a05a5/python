{
 "cells": [
  {
   "cell_type": "markdown",
   "metadata": {},
   "source": [
    "## program-1\n"
   ]
  },
  {
   "cell_type": "code",
   "execution_count": 2,
   "metadata": {},
   "outputs": [
    {
     "name": "stdout",
     "output_type": "stream",
     "text": [
      "-9\n",
      "given n is negative\n"
     ]
    }
   ],
   "source": [
    "n=int(input())\n",
    "if(n>0):\n",
    "    print(\"giiven n is positive\")\n",
    "elif(n<0):\n",
    "    print(\"given n is negative\")\n",
    "else:\n",
    "    print(\"given n is out of range\")"
   ]
  },
  {
   "cell_type": "markdown",
   "metadata": {},
   "source": [
    "## program-2"
   ]
  },
  {
   "cell_type": "code",
   "execution_count": 6,
   "metadata": {},
   "outputs": [
    {
     "name": "stdout",
     "output_type": "stream",
     "text": [
      "april\n",
      "30 days\n"
     ]
    }
   ],
   "source": [
    "n=input()\n",
    "if(n==\"january\" or n==\"march\" or n==\"may\" or n==\"july\" or n==\"august\" or n==\"october\" or n==\"december\"):\n",
    "    print(\"31 days\")\n",
    "elif(n==\"february\"):\n",
    "    print(\"28 or 29 days\")\n",
    "else:\n",
    "    print(\"30 days\")"
   ]
  },
  {
   "cell_type": "markdown",
   "metadata": {},
   "source": [
    "## program -3"
   ]
  },
  {
   "cell_type": "code",
   "execution_count": 15,
   "metadata": {},
   "outputs": [
    {
     "name": "stdout",
     "output_type": "stream",
     "text": [
      "enter no of chocolates:3\n",
      "enter no of friends:2\n",
      "not equally distributed\n"
     ]
    }
   ],
   "source": [
    "n=int(input(\"enter no of chocolates:\"))\n",
    "f=int(input(\"enter no of friends:\"))\n",
    "\n",
    "if(n%f==0):\n",
    "    print(\"equally distributed\")\n",
    "else:\n",
    "    print(\"not equally distributed\")"
   ]
  },
  {
   "cell_type": "markdown",
   "metadata": {},
   "source": [
    "## program-4"
   ]
  },
  {
   "cell_type": "code",
   "execution_count": 4,
   "metadata": {},
   "outputs": [
    {
     "name": "stdout",
     "output_type": "stream",
     "text": [
      "12\n",
      "even\n",
      "1728\n"
     ]
    }
   ],
   "source": [
    "n=int(input())\n",
    "while(n%2==0):\n",
    "    if(n<10):\n",
    "        print(\"even\")\n",
    "        print(n*n)\n",
    "        break\n",
    "    elif(n==10):\n",
    "        print(\"even\")\n",
    "        print(\"num=10\")\n",
    "        break\n",
    "    else:\n",
    "        print(\"even\")\n",
    "        print(n*n*n)\n",
    "        break\n",
    "if(n%2!=0):\n",
    "    print(\"odd\")"
   ]
  },
  {
   "cell_type": "markdown",
   "metadata": {},
   "source": [
    "## program-5\n"
   ]
  },
  {
   "cell_type": "code",
   "execution_count": 10,
   "metadata": {},
   "outputs": [
    {
     "name": "stdout",
     "output_type": "stream",
     "text": [
      "99\n",
      "fix pwdusha\n",
      "invalid userid\n"
     ]
    }
   ],
   "source": [
    "n=int(input())\n",
    "pwd=input(\"fix pwd\")\n",
    "if(n<100 or n>200):\n",
    "    print(\"invalid userid\")\n",
    "else:\n",
    "    f=input(\"enter pwd:\")\n",
    "    if(pwd==f):\n",
    "        print(\"welcome\")\n",
    "    else:\n",
    "        print(\"invalid pwd\")\n",
    "    "
   ]
  },
  {
   "cell_type": "markdown",
   "metadata": {},
   "source": [
    "## program-6\n"
   ]
  },
  {
   "cell_type": "code",
   "execution_count": 18,
   "metadata": {},
   "outputs": [
    {
     "name": "stdout",
     "output_type": "stream",
     "text": [
      "6\n",
      "3\n",
      "enter operation:\n",
      "2.0\n"
     ]
    }
   ],
   "source": [
    "n=int(input())\n",
    "m=int(input())\n",
    "k=input(\"enter operation:\")\n",
    "if(k==\"add\"):\n",
    "    print(n+m)\n",
    "elif(k==\"sub\"):\n",
    "    print(n-m)\n",
    "elif(k==\"mul\"):\n",
    "    print(n*m)\n",
    "else:\n",
    "    print(n/m)"
   ]
  },
  {
   "cell_type": "markdown",
   "metadata": {},
   "source": [
    "# home tasks"
   ]
  },
  {
   "cell_type": "markdown",
   "metadata": {},
   "source": [
    "##  program-7"
   ]
  },
  {
   "cell_type": "code",
   "execution_count": 19,
   "metadata": {},
   "outputs": [
    {
     "name": "stdout",
     "output_type": "stream",
     "text": [
      "D\n",
      "consonant\n"
     ]
    }
   ],
   "source": [
    "n=input()\n",
    "if(n=='a'or n=='i'or n=='e' or n=='o'or n=='u'or n=='A'or n=='E'or n=='I'or n=='O'or n=='U'):\n",
    "    print(\"vowel\")\n",
    "else:\n",
    "    print(\"consonant\")"
   ]
  },
  {
   "cell_type": "markdown",
   "metadata": {},
   "source": [
    "## program-8"
   ]
  },
  {
   "cell_type": "code",
   "execution_count": 72,
   "metadata": {},
   "outputs": [
    {
     "name": "stdout",
     "output_type": "stream",
     "text": [
      "enter no oftestcases2\n",
      "enter len:180\n",
      "enter width:640\n",
      "enter height:480\n",
      "crop it\n",
      "enter width:180\n",
      "enter height:180\n",
      "accepted\n"
     ]
    }
   ],
   "source": [
    "n=int(input(\"enter no oftestcases\"))\n",
    "l=int(input(\"enter len:\"))\n",
    "for i in range(0,n):\n",
    "    w=int(input(\"enter width:\"))\n",
    "    h=int(input(\"enter height:\"))\n",
    "    if(h<l or w<l):\n",
    "        print(\"upload another\")\n",
    "    elif(h*w==l*l):\n",
    "        print(\"accepted\")\n",
    "    else:\n",
    "        print(\"crop it\")"
   ]
  },
  {
   "cell_type": "markdown",
   "metadata": {},
   "source": [
    "## program-9"
   ]
  },
  {
   "cell_type": "code",
   "execution_count": 30,
   "metadata": {},
   "outputs": [
    {
     "name": "stdout",
     "output_type": "stream",
     "text": [
      "enter age:12\n",
      "you are not eligibile\n"
     ]
    }
   ],
   "source": [
    "n=int(input(\"enter age:\"))\n",
    "if(n>18 or n==18):\n",
    "    print(\"you are eligibile to vote\")\n",
    "else:\n",
    "    print(\"you are not eligibile\")"
   ]
  },
  {
   "cell_type": "markdown",
   "metadata": {},
   "source": [
    "# loops"
   ]
  },
  {
   "cell_type": "markdown",
   "metadata": {},
   "source": [
    "## program-10"
   ]
  },
  {
   "cell_type": "code",
   "execution_count": 36,
   "metadata": {},
   "outputs": [
    {
     "name": "stdout",
     "output_type": "stream",
     "text": [
      "10 8 6 4 2 "
     ]
    }
   ],
   "source": [
    "for i in range(10,0,-2):\n",
    "    print(i,end=\" \")"
   ]
  },
  {
   "cell_type": "markdown",
   "metadata": {},
   "source": [
    "## program-11"
   ]
  },
  {
   "cell_type": "code",
   "execution_count": 36,
   "metadata": {},
   "outputs": [
    {
     "name": "stdout",
     "output_type": "stream",
     "text": [
      "sum= 55\n"
     ]
    }
   ],
   "source": [
    "s=0\n",
    "for i in range(0,11):\n",
    "    s+=i\n",
    "print(\"sum=\",s)"
   ]
  },
  {
   "cell_type": "markdown",
   "metadata": {},
   "source": [
    "## program-12"
   ]
  },
  {
   "cell_type": "code",
   "execution_count": 43,
   "metadata": {},
   "outputs": [
    {
     "name": "stdout",
     "output_type": "stream",
     "text": [
      "enter starting range:11\n",
      "enter ending range:20\n",
      "sum= 155\n"
     ]
    }
   ],
   "source": [
    "n=int(input(\"enter starting range:\"))\n",
    "m=int(input(\"enter ending range:\"))\n",
    "s=0\n",
    "for i in range(n,m+1):\n",
    "    s+=i\n",
    "print(\"sum=\",s)"
   ]
  },
  {
   "cell_type": "markdown",
   "metadata": {},
   "source": [
    "## program-13"
   ]
  },
  {
   "cell_type": "code",
   "execution_count": 52,
   "metadata": {},
   "outputs": [
    {
     "name": "stdout",
     "output_type": "stream",
     "text": [
      "60\n",
      "1 2 3 4 5 6 10 12 15 20 30 60 "
     ]
    }
   ],
   "source": [
    "n=int(input())\n",
    "for i in range(1,n+1):\n",
    "    if(n%i==0):\n",
    "        print(i,end=\" \")"
   ]
  },
  {
   "cell_type": "markdown",
   "metadata": {},
   "source": [
    "## program-14"
   ]
  },
  {
   "cell_type": "code",
   "execution_count": 64,
   "metadata": {},
   "outputs": [
    {
     "name": "stdout",
     "output_type": "stream",
     "text": [
      "9\n",
      "  not prime\n"
     ]
    }
   ],
   "source": [
    "n=int(input())\n",
    "count=0\n",
    "for i in range(2,n+1):\n",
    "    if(n%i==0):\n",
    "        count+=1\n",
    "if(count==1):\n",
    "    print(\" prime\")\n",
    "else:\n",
    "    print(\"  not prime\")"
   ]
  },
  {
   "cell_type": "markdown",
   "metadata": {},
   "source": [
    "## program-15\n"
   ]
  },
  {
   "cell_type": "code",
   "execution_count": 76,
   "metadata": {},
   "outputs": [
    {
     "name": "stdout",
     "output_type": "stream",
     "text": [
      "enter a num:6\n",
      "1 2 3 perfect number\n"
     ]
    }
   ],
   "source": [
    "n=int(input(\"enter a num:\"))\n",
    "s=0\n",
    "for i in range(1,n):\n",
    "    if(n%i==0):\n",
    "        print(i,end=\" \")\n",
    "        s+=i\n",
    "if(s==n):\n",
    "    print(\"perfect number\")\n",
    "else:\n",
    "    print(\"not perfect\")"
   ]
  },
  {
   "cell_type": "markdown",
   "metadata": {},
   "source": [
    "## program-16"
   ]
  },
  {
   "cell_type": "code",
   "execution_count": 22,
   "metadata": {},
   "outputs": [
    {
     "name": "stdout",
     "output_type": "stream",
     "text": [
      "enter starting range:1\n",
      "enter ending range:10\n",
      "even no are: 2 4 6 8 10 \n",
      "sum= 30\n",
      "odd no are: 1 3 5 7 9 \n",
      "sum= 25\n"
     ]
    }
   ],
   "source": [
    "n=int(input(\"enter starting range:\"))\n",
    "m=int(input(\"enter ending range:\"))\n",
    "s=0\n",
    "t=0\n",
    "print(\"even no are:\",end=\" \")\n",
    "for i in range(n,m+1):\n",
    "    if(i%2==0):\n",
    "        s+=i\n",
    "        print(i,end=\" \")\n",
    "print(\"\\nsum=\",s)\n",
    "print(\"odd no are:\",end=\" \")\n",
    "for i in range(n,m+1):\n",
    "     if(i%2!=0):\n",
    "        t+=i\n",
    "        print(i,end=\" \")\n",
    "print(\"\\nsum=\",t)\n",
    "    \n"
   ]
  },
  {
   "cell_type": "markdown",
   "metadata": {},
   "source": [
    "## program-17"
   ]
  },
  {
   "cell_type": "code",
   "execution_count": 6,
   "metadata": {},
   "outputs": [
    {
     "name": "stdout",
     "output_type": "stream",
     "text": [
      "enter starting range:1\n",
      "enter ending range:15\n",
      "1\n",
      "2\n",
      "fizz\n",
      "4\n",
      "buzz\n",
      "fizz\n",
      "7\n",
      "8\n",
      "fizz\n",
      "buzz\n",
      "11\n",
      "fizz\n",
      "13\n",
      "14\n",
      "fizzbuzz\n"
     ]
    }
   ],
   "source": [
    "n=int(input(\"enter starting range:\"))\n",
    "m=int(input(\"enter ending range:\"))\n",
    "for i in range(n,m+1):\n",
    "    if(i%3==0 and i%5==0):\n",
    "        print(\"fizzbuzz\")\n",
    "    elif(i%5==0):\n",
    "        print(\"buzz\")\n",
    "    elif(i%3==0):\n",
    "        print(\"fizz\")\n",
    "    else:\n",
    "        print(i)"
   ]
  },
  {
   "cell_type": "markdown",
   "metadata": {},
   "source": [
    "## program-18"
   ]
  },
  {
   "cell_type": "code",
   "execution_count": 9,
   "metadata": {},
   "outputs": [
    {
     "name": "stdout",
     "output_type": "stream",
     "text": [
      "B -> 66\n",
      "D -> 68\n",
      "F -> 70\n",
      "H -> 72\n",
      "J -> 74\n",
      "L -> 76\n",
      "N -> 78\n",
      "P -> 80\n",
      "R -> 82\n",
      "T -> 84\n",
      "V -> 86\n",
      "X -> 88\n",
      "Z -> 90\n"
     ]
    }
   ],
   "source": [
    "for i in range(65,91):\n",
    "    if(i%2==0):\n",
    "        print(chr(i),\"->\",i)"
   ]
  },
  {
   "cell_type": "markdown",
   "metadata": {},
   "source": [
    "## program-19"
   ]
  },
  {
   "cell_type": "code",
   "execution_count": 2,
   "metadata": {},
   "outputs": [
    {
     "name": "stdout",
     "output_type": "stream",
     "text": [
      "1 2 3 4 5 6 7 8 9 10 "
     ]
    }
   ],
   "source": [
    "n=1\n",
    "while(n>0 and n<11):\n",
    "    print(n,end=\" \")\n",
    "    n+=1"
   ]
  },
  {
   "cell_type": "markdown",
   "metadata": {},
   "source": [
    "## program-20"
   ]
  },
  {
   "cell_type": "code",
   "execution_count": 1,
   "metadata": {},
   "outputs": [
    {
     "name": "stdout",
     "output_type": "stream",
     "text": [
      "10\n",
      "sum= 55\n"
     ]
    }
   ],
   "source": [
    "n=int(input())\n",
    "i=1\n",
    "s=0\n",
    "while(i<=n):\n",
    "    s+=i\n",
    "    i+=1\n",
    "print(\"sum=\",s)"
   ]
  },
  {
   "cell_type": "markdown",
   "metadata": {},
   "source": [
    "## program-21"
   ]
  },
  {
   "cell_type": "code",
   "execution_count": 4,
   "metadata": {},
   "outputs": [
    {
     "name": "stdout",
     "output_type": "stream",
     "text": [
      "enter a number:123\n",
      "total= 3\n"
     ]
    }
   ],
   "source": [
    "n=int(input(\"enter a number:\"))\n",
    "count=0\n",
    "while(n>0):\n",
    "    n=n//10\n",
    "    count+=1\n",
    "print(\"total=\",count)"
   ]
  },
  {
   "cell_type": "markdown",
   "metadata": {},
   "source": [
    "## program-22"
   ]
  },
  {
   "cell_type": "code",
   "execution_count": 7,
   "metadata": {},
   "outputs": [
    {
     "name": "stdout",
     "output_type": "stream",
     "text": [
      "enter a number:112345\n",
      "reverse is: 543211\n"
     ]
    }
   ],
   "source": [
    "sums=0\n",
    "n=int(input(\"enter a number:\"))\n",
    "while(n>0):\n",
    "    digit=n%10\n",
    "    sums=digit+(sums*10)\n",
    "    n=n//10\n",
    "print(\"reverse is:\",sums)"
   ]
  },
  {
   "cell_type": "markdown",
   "metadata": {},
   "source": [
    "## program-23"
   ]
  },
  {
   "cell_type": "code",
   "execution_count": 12,
   "metadata": {},
   "outputs": [
    {
     "name": "stdout",
     "output_type": "stream",
     "text": [
      "enter a number:1221\n",
      "palindrome number\n"
     ]
    }
   ],
   "source": [
    "sums=0\n",
    "n=int(input(\"enter a number:\"))\n",
    "rev=n\n",
    "while(n>0):\n",
    "    digit=n%10\n",
    "    sums=digit+(sums*10)\n",
    "    n=n//10\n",
    "if(sums==rev):\n",
    "    print(\"palindrome number\")\n",
    "else:\n",
    "    print(\"not palindrome\")"
   ]
  },
  {
   "cell_type": "markdown",
   "metadata": {},
   "source": [
    "## program-24"
   ]
  },
  {
   "cell_type": "code",
   "execution_count": 13,
   "metadata": {},
   "outputs": [
    {
     "name": "stdout",
     "output_type": "stream",
     "text": [
      "enter a number:153\n",
      "armstrong\n"
     ]
    }
   ],
   "source": [
    "n=int(input(\"enter a number:\"))\n",
    "rev=n\n",
    "sums=0\n",
    "while(n>0):\n",
    "    digit=n%10\n",
    "    sums=(digit*digit*digit)+sums\n",
    "    n=n//10\n",
    "if(sums==rev):\n",
    "    print(\"armstrong\")\n",
    "else:\n",
    "    print(\"not armstrong\")"
   ]
  },
  {
   "cell_type": "markdown",
   "metadata": {},
   "source": [
    "## program-25"
   ]
  },
  {
   "cell_type": "code",
   "execution_count": 27,
   "metadata": {},
   "outputs": [
    {
     "name": "stdout",
     "output_type": "stream",
     "text": [
      "enter a number:684\n",
      "sum= 18\n",
      "mul= 192\n"
     ]
    }
   ],
   "source": [
    "n=int(input(\"enter a number:\"))\n",
    "sums=0\n",
    "mul=1\n",
    "while(n>0):\n",
    "    digit=n%10\n",
    "    sums=digit+sums\n",
    "    mul=(mul*digit)\n",
    "    n=n//10\n",
    "print(\"sum=\",sums)\n",
    "print(\"mul=\",mul)"
   ]
  },
  {
   "cell_type": "markdown",
   "metadata": {},
   "source": [
    "## program-26"
   ]
  },
  {
   "cell_type": "code",
   "execution_count": 29,
   "metadata": {},
   "outputs": [
    {
     "name": "stdout",
     "output_type": "stream",
     "text": [
      "enter a number:67895\n",
      "5 9 7 \n",
      "sum= 21\n"
     ]
    }
   ],
   "source": [
    "n=int(input(\"enter a number:\"))\n",
    "s=0\n",
    "while(n>0):\n",
    "    digit=n%10\n",
    "    n=n//10\n",
    "    if(digit%2!=0):\n",
    "        print(digit,end=\" \")\n",
    "        s=s+digit\n",
    "print(\"\\nsum=\",s)"
   ]
  },
  {
   "cell_type": "markdown",
   "metadata": {},
   "source": [
    "# functions"
   ]
  },
  {
   "cell_type": "markdown",
   "metadata": {},
   "source": [
    "## program-27"
   ]
  },
  {
   "cell_type": "code",
   "execution_count": 31,
   "metadata": {},
   "outputs": [
    {
     "name": "stdout",
     "output_type": "stream",
     "text": [
      "enter a num:4\n",
      "a is even\n"
     ]
    }
   ],
   "source": [
    "a=int(input(\"enter a num:\"))\n",
    "def evenorodd(a):\n",
    "    if(a%2==0):\n",
    "        print(\"a is even\")\n",
    "    else:\n",
    "        print(\"a is odd\")\n",
    "evenorodd(n)"
   ]
  },
  {
   "cell_type": "markdown",
   "metadata": {},
   "source": [
    "## program-28"
   ]
  },
  {
   "cell_type": "code",
   "execution_count": 35,
   "metadata": {},
   "outputs": [
    {
     "name": "stdout",
     "output_type": "stream",
     "text": [
      "31\n",
      " prime\n"
     ]
    }
   ],
   "source": [
    "n=int(input())\n",
    "def primes(n):\n",
    "    count=0\n",
    "    for i in range(2,n+1):\n",
    "        if(n%i==0):\n",
    "            count+=1\n",
    "    if(count==1):\n",
    "        print(\" prime\")\n",
    "    else:\n",
    "        print(\"  not prime\")\n",
    "primes(n)"
   ]
  },
  {
   "cell_type": "markdown",
   "metadata": {},
   "source": [
    "## program-29"
   ]
  },
  {
   "cell_type": "code",
   "execution_count": 48,
   "metadata": {},
   "outputs": [
    {
     "name": "stdout",
     "output_type": "stream",
     "text": [
      "enter range:50\n",
      "enter range:100\n",
      "75.0\n"
     ]
    }
   ],
   "source": [
    "k=int(input(\"enter range:\"))\n",
    "n=int(input(\"enter range:\"))\n",
    "def avg(n):\n",
    "    s=0\n",
    "    c=0\n",
    "    for i in range(k,n+1):\n",
    "        s+=i\n",
    "        c+=1\n",
    "    m=s/c\n",
    "    print(m)\n",
    "avg(n)"
   ]
  },
  {
   "cell_type": "markdown",
   "metadata": {},
   "source": [
    "## program-30"
   ]
  },
  {
   "cell_type": "code",
   "execution_count": 50,
   "metadata": {},
   "outputs": [
    {
     "name": "stdout",
     "output_type": "stream",
     "text": [
      "enter a number:5\n",
      "factorial is: 120\n"
     ]
    }
   ],
   "source": [
    "n=int(input(\"enter a number:\"))\n",
    "def fact(n):\n",
    "    fact=1\n",
    "    for i in range(1,n+1):\n",
    "        fact=fact*i\n",
    "    print(\"factorial is:\",fact)\n",
    "fact(n)"
   ]
  },
  {
   "cell_type": "code",
   "execution_count": null,
   "metadata": {},
   "outputs": [],
   "source": []
  }
 ],
 "metadata": {
  "kernelspec": {
   "display_name": "Python 3",
   "language": "python",
   "name": "python3"
  },
  "language_info": {
   "codemirror_mode": {
    "name": "ipython",
    "version": 3
   },
   "file_extension": ".py",
   "mimetype": "text/x-python",
   "name": "python",
   "nbconvert_exporter": "python",
   "pygments_lexer": "ipython3",
   "version": "3.8.5"
  }
 },
 "nbformat": 4,
 "nbformat_minor": 4
}
