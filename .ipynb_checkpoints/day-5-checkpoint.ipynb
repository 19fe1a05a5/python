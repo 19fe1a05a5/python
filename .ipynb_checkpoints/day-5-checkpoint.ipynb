{
 "cells": [
  {
   "cell_type": "markdown",
   "metadata": {},
   "source": [
    "# regular expressions\n",
    "- we  have inbuilt regular expression package\n",
    "- import re\n",
    "- methods in regular expression\n",
    "- search\n",
    "- match\n",
    "- find tail\n",
    "- re.method name(pattern,str/var name)\n",
    "- symbols used in re\n",
    "<img src =\n",
    "\"https://miro.medium.com/max/1838/1*hjsbL45MhT2Tw5DGAYoAUg.png\">\n",
    "     \n",
    "## program-1\n"
   ]
  },
  {
   "cell_type": "code",
   "execution_count": 22,
   "metadata": {},
   "outputs": [
    {
     "name": "stdout",
     "output_type": "stream",
     "text": [
      "<re.Match object; span=(3, 4), match='n'>\n",
      "None\n",
      "None\n",
      "<re.Match object; span=(0, 2), match='la'>\n",
      "['n', 'n', 'n', 'n', 'n']\n",
      "<re.Match object; span=(0, 3), match='vig'>\n",
      "None\n"
     ]
    }
   ],
   "source": [
    "import  re\n",
    "print(re.search(\"n\",\"vignan\"))\n",
    "print(re.search(\"na\",\"lara\"))\n",
    "print(re.match(\"na\",\"vignan\"))\n",
    "print(re.match(\"la\",\"lara\"))\n",
    "print(re.findall(\"n\",\"vignannnn\"))\n",
    "\n"
   ]
  },
  {
   "cell_type": "markdown",
   "metadata": {},
   "source": [
    "## program-2"
   ]
  },
  {
   "cell_type": "code",
   "execution_count": 38,
   "metadata": {},
   "outputs": [
    {
     "name": "stdout",
     "output_type": "stream",
     "text": [
      "<re.Match object; span=(0, 2), match='vi'>\n",
      "None\n",
      "<re.Match object; span=(0, 6), match='vignan'>\n",
      "<re.Match object; span=(0, 2), match='vi'>\n",
      "<re.Match object; span=(0, 3), match='vig'>\n",
      "None\n",
      "<re.Match object; span=(8, 11), match='ara'>\n",
      "None\n",
      "<re.Match object; span=(0, 0), match=''>\n",
      "<re.Match object; span=(0, 0), match=''>\n",
      "<re.Match object; span=(6, 7), match=' '>\n",
      "None\n",
      "<re.Match object; span=(4, 5), match='a'>\n",
      "<re.Match object; span=(0, 1), match='n'>\n",
      "<re.Match object; span=(0, 1), match='v'>\n",
      "None\n"
     ]
    }
   ],
   "source": [
    "print(re.search(\"..\",\"vignan\"))\n",
    "print(re.search(\"..\",\"v\"))\n",
    "print(re.search(\".{3,10}\",\"vignan\"))\n",
    "print(re.search(\".{1,10}\",\"vi\"))\n",
    "print(re.search(\"^vig\",\"vignan lara\"))\n",
    "print(re.search(\"^vig\",\"nan lara\"))\n",
    "print(re.search(\"ara$\",\"vignan lara\"))\n",
    "print(re.search(\"nan$\",\"nan lara\"))\n",
    "print(re.search(\" *\",\"vignan lara\"))\n",
    "print(re.search(\" *\",\"nanlara\"))\n",
    "print(re.search(\" +\",\"vignan lara\"))\n",
    "print(re.search(\" +\",\"nanlara\"))\n",
    "print(re.search(\"[la]\",\"vignan lara\"))\n",
    "print(re.search(\"[an]\",\"nanlara\"))\n",
    "print(re.match(\"[uv]\",\"vignan lara\"))\n",
    "print(re.match(\"[^i]\",\"ignan lara\"))"
   ]
  },
  {
   "cell_type": "code",
   "execution_count": null,
   "metadata": {},
   "outputs": [],
   "source": []
  }
 ],
 "metadata": {
  "kernelspec": {
   "display_name": "Python 3",
   "language": "python",
   "name": "python3"
  },
  "language_info": {
   "codemirror_mode": {
    "name": "ipython",
    "version": 3
   },
   "file_extension": ".py",
   "mimetype": "text/x-python",
   "name": "python",
   "nbconvert_exporter": "python",
   "pygments_lexer": "ipython3",
   "version": "3.8.5"
  }
 },
 "nbformat": 4,
 "nbformat_minor": 4
}
