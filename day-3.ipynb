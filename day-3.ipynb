{
 "cells": [
  {
   "cell_type": "markdown",
   "metadata": {},
   "source": [
    "## program-1"
   ]
  },
  {
   "cell_type": "code",
   "execution_count": 30,
   "metadata": {},
   "outputs": [
    {
     "name": "stdout",
     "output_type": "stream",
     "text": [
      "starting range:1\n",
      "ending range:10\n",
      "2 3 5 7 primes in given range\n"
     ]
    }
   ],
   "source": [
    "m=int(input(\"starting range:\"))\n",
    "n=int(input(\"ending range:\"))\n",
    "for num in range(m,n+1):\n",
    "    count,s=0,0\n",
    "    for dig in str(num):\n",
    "        s+=int(dig)\n",
    "    for k in range(1,s+1):\n",
    "        if(s%k==0):\n",
    "            count+=1\n",
    "    if(count==2):\n",
    "        print(num,end=\" \")\n",
    "print(\"primes in given range\")"
   ]
  },
  {
   "cell_type": "markdown",
   "metadata": {},
   "source": [
    "## program-2"
   ]
  },
  {
   "cell_type": "code",
   "execution_count": 8,
   "metadata": {},
   "outputs": [
    {
     "name": "stdout",
     "output_type": "stream",
     "text": [
      "       \n",
      " menu\n",
      "1.chicken biryani-180\n",
      "2.chicken lollipop-150\n",
      "3.chicken 65-200\n",
      "4.chicken noodles-150\n",
      "5.coke-50\n",
      "enter items no:5\n",
      "enter item no:1\n",
      "enter no 0f plates:1\n",
      "total of chicken biryani 180\n",
      "enter item no:2\n",
      "enter no 0f plates:1\n",
      "total of chicken lollipop 150\n",
      "enter item no:3\n",
      "enter no 0f plates:1\n",
      "total of 65 200\n",
      "enter item no:4\n",
      "enter no 0f plates:1\n",
      "total of noodles 150\n",
      "enter item no:5\n",
      "enter no of plates:1\n",
      "total of coke 50\n",
      "your total bill is: 730\n"
     ]
    }
   ],
   "source": [
    "print(\"       \\n menu\")\n",
    "print(\"1.chicken biryani-180\\n2.chicken lollipop-150\\n3.chicken 65-200\\n4.chicken noodles-150\\n5.coke-50\")\n",
    "n=int(input(\"enter items no:\"))\n",
    "total=0\n",
    "for i in range(1,n+1):\n",
    "    c=0\n",
    "    s=int(input(\"enter item no:\"))\n",
    "    if(s==1):\n",
    "        r=int(input(\"enter no 0f plates:\"))\n",
    "        c=(r*180)\n",
    "        total+=c\n",
    "        print(\"total of chicken biryani\",c)\n",
    "    elif(s==2):\n",
    "        m=int(input(\"enter no 0f plates:\"))\n",
    "        c=(m*150)\n",
    "        total+=c\n",
    "        print(\"total of chicken lollipop\",c)\n",
    "    elif(s==3):\n",
    "        k=int(input(\"enter no 0f plates:\"))\n",
    "        c=(k*200)\n",
    "        print(\"total of 65\",c)\n",
    "        total+=c\n",
    "    elif(s==4):\n",
    "        l=int(input(\"enter no 0f plates:\"))\n",
    "        c=(l*150)\n",
    "        print(\"total of noodles\",c)\n",
    "        total+=c\n",
    "    else:\n",
    "        j=int(input(\"enter no of plates:\"))\n",
    "        c=(j*50)\n",
    "        print(\"total of coke\",c)\n",
    "        total+=c\n",
    "print(\"your total bill is:\",total)\n",
    "\n",
    "      \n",
    "        "
   ]
  },
  {
   "cell_type": "markdown",
   "metadata": {},
   "source": [
    "## program-3"
   ]
  },
  {
   "cell_type": "code",
   "execution_count": 23,
   "metadata": {},
   "outputs": [
    {
     "name": "stdout",
     "output_type": "stream",
     "text": [
      "enter a sentence:and and andan andand and\n",
      "6\n"
     ]
    }
   ],
   "source": [
    "string=input(\"enter a sentence:\")\n",
    "print(string.count(\"and\"))"
   ]
  },
  {
   "cell_type": "markdown",
   "metadata": {},
   "source": [
    "## program-4"
   ]
  },
  {
   "cell_type": "code",
   "execution_count": 27,
   "metadata": {},
   "outputs": [
    {
     "name": "stdout",
     "output_type": "stream",
     "text": [
      "i\n",
      "i\n",
      "am\n",
      "a\n",
      "m\n",
      "usha\n",
      "u\n",
      "s\n",
      "h\n",
      "a\n"
     ]
    }
   ],
   "source": [
    "for word in \"i am usha\".split():\n",
    "    print(word)\n",
    "    for ch in word:\n",
    "        print(ch)"
   ]
  },
  {
   "cell_type": "markdown",
   "metadata": {},
   "source": [
    "## program-5"
   ]
  },
  {
   "cell_type": "code",
   "execution_count": 34,
   "metadata": {},
   "outputs": [
    {
     "name": "stdout",
     "output_type": "stream",
     "text": [
      "enter a name:ushu\n",
      "no\n"
     ]
    }
   ],
   "source": [
    "n=input(\"enter a name:\")\n",
    "if(n.startswith(\"u\")and n.endswith(\"a\")):\n",
    "    print(\"yes\")\n",
    "else:\n",
    "    print(\"no\")"
   ]
  },
  {
   "cell_type": "markdown",
   "metadata": {},
   "source": [
    "## program-6"
   ]
  },
  {
   "cell_type": "code",
   "execution_count": 45,
   "metadata": {},
   "outputs": [
    {
     "name": "stdout",
     "output_type": "stream",
     "text": [
      "3\n",
      "123 234 345\n",
      "sum= 9\n"
     ]
    }
   ],
   "source": [
    "n=int(input())\n",
    "nu=input().split()[:n]\n",
    "s=0\n",
    "for num in nu:\n",
    "    s+=int(num[1])\n",
    "print(\"sum=\",s)"
   ]
  },
  {
   "cell_type": "markdown",
   "metadata": {},
   "source": [
    " ## program-7"
   ]
  },
  {
   "cell_type": "code",
   "execution_count": 6,
   "metadata": {},
   "outputs": [
    {
     "name": "stdout",
     "output_type": "stream",
     "text": [
      "11 2 3 4 5 6 7 8\n",
      "11 2 3 5 7 "
     ]
    }
   ],
   "source": [
    "def primes(s):\n",
    "    count=0\n",
    "    for i in range(2,s):\n",
    "        if(s%i==0):\n",
    "            count+=1\n",
    "    return count\n",
    "n=input().split()\n",
    "for num in n:\n",
    "    m=primes(int(num))\n",
    "    if(m==0):\n",
    "        print(num,end=\" \")"
   ]
  },
  {
   "cell_type": "markdown",
   "metadata": {},
   "source": [
    "## program-8"
   ]
  },
  {
   "cell_type": "code",
   "execution_count": 19,
   "metadata": {},
   "outputs": [
    {
     "name": "stdout",
     "output_type": "stream",
     "text": [
      "Usha\n",
      "lower case vowels: a \n",
      "upper case vowels: U "
     ]
    }
   ],
   "source": [
    "n=input()\n",
    "def fun(n):\n",
    "    print(\"lower case vowels:\",end=\" \")\n",
    "    for le in n:\n",
    "        if le in('a','e','i','o','u'):#if le.islower()\n",
    "            print(le,end=\" \")\n",
    "    print(\"\\nupper case vowels:\",end=\" \")\n",
    "    for le in n:\n",
    "        if le in ('A','E','I','O','U'):# if le.isupper()\n",
    "            print(le,end=\" \")\n",
    "fun(n)"
   ]
  },
  {
   "cell_type": "markdown",
   "metadata": {},
   "source": [
    "## program-9"
   ]
  },
  {
   "cell_type": "code",
   "execution_count": 21,
   "metadata": {},
   "outputs": [
    {
     "name": "stdout",
     "output_type": "stream",
     "text": [
      "enter a num:1123\n",
      "7\n"
     ]
    }
   ],
   "source": [
    "n=input(\"enter a num:\")\n",
    "s=0\n",
    "for ch in n:\n",
    "    s+=int(ch)\n",
    "print(s)"
   ]
  },
  {
   "cell_type": "markdown",
   "metadata": {},
   "source": [
    "## program-10"
   ]
  },
  {
   "cell_type": "code",
   "execution_count": 25,
   "metadata": {},
   "outputs": [
    {
     "name": "stdout",
     "output_type": "stream",
     "text": [
      "vignan 19fe1a05a5\n",
      "6\n",
      "10\n"
     ]
    }
   ],
   "source": [
    "n=input()\n",
    "c=0\n",
    "k=0\n",
    "for ch in n:\n",
    "    if(ch.isdigit()):\n",
    "        c+=1\n",
    "    if(ch.isalpha()):\n",
    "        k+=1\n",
    "print(c)\n",
    "print(k)"
   ]
  },
  {
   "cell_type": "markdown",
   "metadata": {},
   "source": [
    "## program-11"
   ]
  },
  {
   "cell_type": "code",
   "execution_count": 36,
   "metadata": {},
   "outputs": [
    {
     "name": "stdout",
     "output_type": "stream",
     "text": [
      "enter no oftestcases1\n",
      "enter len:180\n",
      "180 180\n",
      "accepted\n"
     ]
    }
   ],
   "source": [
    "n=int(input(\"enter no oftestcases\"))\n",
    "l=int(input(\"enter len:\"))\n",
    "for i in range(0,n):\n",
    "    k=input().split()\n",
    "    if(int(k[0])<l or int(k[1])<l):\n",
    "        print(\"upload another\")\n",
    "    elif(int(k[0])*int(k[1])==l*l):\n",
    "        print(\"accepted\")\n",
    "    else:\n",
    "        print(\"crop it\")"
   ]
  },
  {
   "cell_type": "markdown",
   "metadata": {},
   "source": [
    "### list is mutable\n",
    "### tuple is not mutable\n",
    "## program-12"
   ]
  },
  {
   "cell_type": "code",
   "execution_count": 63,
   "metadata": {},
   "outputs": [
    {
     "name": "stdout",
     "output_type": "stream",
     "text": [
      "[1, 2, 'python', 45]\n",
      "python\n",
      "1\n",
      "[2, 'python', 45]\n",
      "<class 'list'>\n",
      "[1, 2, 'python', 45, 56]\n",
      "1\n",
      "0\n",
      "34\n",
      "34\n",
      "[23, 45, 34, 56, 34, 78, 77, 34, 566, 324]\n"
     ]
    }
   ],
   "source": [
    "l=[1,2,\"python\",45]\n",
    "print(l)\n",
    "print(l[2])\n",
    "print(l[-4])\n",
    "print(l[1:4])\n",
    "print(type(l))\n",
    "l.append(56)\n",
    "print(l)\n",
    "li=[23,34,45,34,56,34,78,77,34,566,324,34]\n",
    "li.count(34)\n",
    "print(li.index(34))\n",
    "print(li.index(23))\n",
    "print(li.pop())\n",
    "print(li.pop(1))\n",
    "print(li)"
   ]
  },
  {
   "cell_type": "markdown",
   "metadata": {},
   "source": [
    "## program-13"
   ]
  },
  {
   "cell_type": "code",
   "execution_count": 71,
   "metadata": {},
   "outputs": [
    {
     "name": "stdout",
     "output_type": "stream",
     "text": [
      "13\n",
      "52\n",
      "165\n",
      "[13, 24, 31, 45, 52]\n",
      "5\n",
      "[]\n",
      "[31, 22, 52, 13, 24, 45]\n"
     ]
    }
   ],
   "source": [
    "j=[31,52,13,24,45]\n",
    "print(min(j))\n",
    "print(max(j))\n",
    "print(sum(j))\n",
    "print(sorted(j))\n",
    "print(len(j))\n",
    "j.insert(1,22)\n",
    "i=j.copy()# when use copy method changes in j doesn't effect i but if(we use(i=j))then changes in j will effect i also\n",
    "i.clear()\n",
    "print(i)\n",
    "print(j)"
   ]
  },
  {
   "cell_type": "markdown",
   "metadata": {},
   "source": [
    "## program-14"
   ]
  },
  {
   "cell_type": "code",
   "execution_count": 74,
   "metadata": {},
   "outputs": [
    {
     "name": "stdout",
     "output_type": "stream",
     "text": [
      "4\n"
     ]
    }
   ],
   "source": [
    "v=[22,33,[2,4],5]\n",
    "print(v[2][1])"
   ]
  },
  {
   "cell_type": "markdown",
   "metadata": {},
   "source": [
    "## program-15"
   ]
  },
  {
   "cell_type": "code",
   "execution_count": 78,
   "metadata": {},
   "outputs": [
    {
     "name": "stdout",
     "output_type": "stream",
     "text": [
      "[12, 34, 45, 56, 89]\n"
     ]
    }
   ],
   "source": [
    "l=[34,12,45,12,34,56,89]\n",
    "n=[]\n",
    "for i in l:\n",
    "    if i not in n:\n",
    "        n.append(i)\n",
    "print(sorted(n))\n",
    "        "
   ]
  },
  {
   "cell_type": "markdown",
   "metadata": {},
   "source": [
    "## program-16"
   ]
  },
  {
   "cell_type": "code",
   "execution_count": 83,
   "metadata": {},
   "outputs": [
    {
     "name": "stdout",
     "output_type": "stream",
     "text": [
      "[45, 56, 89]\n"
     ]
    }
   ],
   "source": [
    "l=[34,12,45,12,34,56,89]\n",
    "n=[]\n",
    "for i in l:\n",
    "    if l.count(i)==1:\n",
    "        n.append(i)\n",
    "print(n)"
   ]
  },
  {
   "cell_type": "markdown",
   "metadata": {},
   "source": [
    "## program-17"
   ]
  },
  {
   "cell_type": "code",
   "execution_count": 85,
   "metadata": {},
   "outputs": [
    {
     "name": "stdout",
     "output_type": "stream",
     "text": [
      "15\n"
     ]
    }
   ],
   "source": [
    "l=[1,2,3,4,5]\n",
    "s=0\n",
    "for i in l:\n",
    "    s+=i\n",
    "print(s)"
   ]
  },
  {
   "cell_type": "markdown",
   "metadata": {},
   "source": [
    "## program-18"
   ]
  },
  {
   "cell_type": "code",
   "execution_count": 6,
   "metadata": {},
   "outputs": [
    {
     "name": "stdout",
     "output_type": "stream",
     "text": [
      "enter list size:2\n",
      "enter values:12\n",
      "enter values:34\n",
      "the maximum value is: 34\n"
     ]
    }
   ],
   "source": [
    "l=[]\n",
    "maxi=[]\n",
    "k=int(input(\"enter list size:\"))\n",
    "for i in range(k):\n",
    "    val=int(input(\"enter values:\"))\n",
    "    l.append(val)\n",
    "    maxi=l[0]\n",
    "for i in range(k):\n",
    "    if(l[i]>maxi):\n",
    "        maxi=l[i]\n",
    "print(\"the maximum value is:\",maxi)"
   ]
  },
  {
   "cell_type": "markdown",
   "metadata": {},
   "source": [
    "## program-19"
   ]
  },
  {
   "cell_type": "code",
   "execution_count": 7,
   "metadata": {},
   "outputs": [
    {
     "name": "stdout",
     "output_type": "stream",
     "text": [
      "enter list size:3\n",
      "enter values:1\n",
      "enter values:2\n",
      "enter values:3\n",
      "the minimum value is: 1\n"
     ]
    }
   ],
   "source": [
    "l=[]\n",
    "mini=[]\n",
    "k=int(input(\"enter list size:\"))\n",
    "for i in range(k):\n",
    "    val=int(input(\"enter values:\"))\n",
    "    l.append(val)\n",
    "    mini=l[0]\n",
    "for i in range(k):\n",
    "    if(l[i]<mini):\n",
    "        mini=l[i]\n",
    "print(\"the minimum value is:\",mini)"
   ]
  },
  {
   "cell_type": "code",
   "execution_count": null,
   "metadata": {},
   "outputs": [],
   "source": []
  }
 ],
 "metadata": {
  "kernelspec": {
   "display_name": "Python 3",
   "language": "python",
   "name": "python3"
  },
  "language_info": {
   "codemirror_mode": {
    "name": "ipython",
    "version": 3
   },
   "file_extension": ".py",
   "mimetype": "text/x-python",
   "name": "python",
   "nbconvert_exporter": "python",
   "pygments_lexer": "ipython3",
   "version": "3.8.5"
  }
 },
 "nbformat": 4,
 "nbformat_minor": 4
}
